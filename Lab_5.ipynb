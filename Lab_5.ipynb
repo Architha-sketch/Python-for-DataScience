{
  "nbformat": 4,
  "nbformat_minor": 0,
  "metadata": {
    "colab": {
      "provenance": [],
      "authorship_tag": "ABX9TyNn+tEf0ylVPGBoEsBIuG2J",
      "include_colab_link": true
    },
    "kernelspec": {
      "name": "python3",
      "display_name": "Python 3"
    },
    "language_info": {
      "name": "python"
    }
  },
  "cells": [
    {
      "cell_type": "markdown",
      "metadata": {
        "id": "view-in-github",
        "colab_type": "text"
      },
      "source": [
        "<a href=\"https://colab.research.google.com/github/Architha-sketch/Python-for-DataScience/blob/main/Lab_5.ipynb\" target=\"_parent\"><img src=\"https://colab.research.google.com/assets/colab-badge.svg\" alt=\"Open In Colab\"/></a>"
      ]
    },
    {
      "cell_type": "code",
      "execution_count": 1,
      "metadata": {
        "colab": {
          "base_uri": "https://localhost:8080/"
        },
        "id": "pQ7_c23SJL9b",
        "outputId": "684fe090-af44-4a20-a948-8a9fcfeb3811"
      },
      "outputs": [
        {
          "output_type": "stream",
          "name": "stdout",
          "text": [
            "Merged Dataset:\n",
            "    transaction_id  customer_id  amount     name       city\n",
            "0             101            1    2500    Alice  Hyderabad\n",
            "1             102            2    1500      Bob    Chennai\n",
            "2             103            1    3000    Alice  Hyderabad\n",
            "3             104            3    4000  Charlie  Hyderabad\n",
            "4             105            4    2000    David  Bangalore\n",
            "5             106            5    1000      Eva    Chennai\n",
            "6             107            2    3500      Bob    Chennai \n",
            "\n",
            "Total Spend per Customer:\n",
            "    customer_id     name  total_spend\n",
            "0            1    Alice         5500\n",
            "1            2      Bob         5000\n",
            "2            3  Charlie         4000\n",
            "3            4    David         2000\n",
            "4            5      Eva         1000 \n",
            "\n",
            "City-wise Spending:\n",
            "         city  city_total_spend\n",
            "0  Bangalore              2000\n",
            "1    Chennai              6000\n",
            "2  Hyderabad              9500 \n",
            "\n",
            "Top Spender:\n",
            " customer_id        1\n",
            "name           Alice\n",
            "total_spend     5500\n",
            "Name: 0, dtype: object \n",
            "\n",
            "Insights:\n",
            "- The top spender is Alice with a total spend of 5500.\n",
            "- Customers in Hyderabad spend the most overall with 9500.\n"
          ]
        }
      ],
      "source": [
        "import pandas as pd\n",
        "\n",
        "\n",
        "customers = pd.DataFrame({\n",
        "    \"customer_id\": [1, 2, 3, 4, 5],\n",
        "    \"name\": [\"Alice\", \"Bob\", \"Charlie\", \"David\", \"Eva\"],\n",
        "    \"city\": [\"Hyderabad\", \"Chennai\", \"Hyderabad\", \"Bangalore\", \"Chennai\"]\n",
        "})\n",
        "\n",
        "\n",
        "transactions = pd.DataFrame({\n",
        "    \"transaction_id\": [101, 102, 103, 104, 105, 106, 107],\n",
        "    \"customer_id\": [1, 2, 1, 3, 4, 5, 2],\n",
        "    \"amount\": [2500, 1500, 3000, 4000, 2000, 1000, 3500]\n",
        "})\n",
        "\n",
        "\n",
        "merged_data = pd.merge(transactions, customers, on=\"customer_id\", how=\"inner\")\n",
        "\n",
        "print(\"Merged Dataset:\\n\", merged_data, \"\\n\")\n",
        "\n",
        "\n",
        "customer_spend = merged_data.groupby([\"customer_id\", \"name\"])[\"amount\"].sum().reset_index()\n",
        "customer_spend = customer_spend.rename(columns={\"amount\": \"total_spend\"})\n",
        "\n",
        "print(\"Total Spend per Customer:\\n\", customer_spend, \"\\n\")\n",
        "\n",
        "\n",
        "city_spend = merged_data.groupby(\"city\")[\"amount\"].sum().reset_index()\n",
        "city_spend = city_spend.rename(columns={\"amount\": \"city_total_spend\"})\n",
        "\n",
        "print(\"City-wise Spending:\\n\", city_spend, \"\\n\")\n",
        "\n",
        "\n",
        "top_spender = customer_spend.loc[customer_spend[\"total_spend\"].idxmax()]\n",
        "\n",
        "print(\"Top Spender:\\n\", top_spender, \"\\n\")\n",
        "\n",
        "\n",
        "print(\"Insights:\")\n",
        "print(f\"- The top spender is {top_spender['name']} with a total spend of {top_spender['total_spend']}.\")\n",
        "print(f\"- Customers in {city_spend.loc[city_spend['city_total_spend'].idxmax(), 'city']} \"\n",
        "      f\"spend the most overall with {city_spend['city_total_spend'].max()}.\")"
      ]
    },
    {
      "cell_type": "code",
      "source": [
        "import pandas as pd\n",
        "\n",
        "patients = pd.DataFrame({\n",
        "    \"patient_id\": [1, 2, 3, 4, 5],\n",
        "    \"name\": [\"Alice\", \"Bob\", \"Charlie\", \"David\", \"Eva\"],\n",
        "    \"age\": [30, 45, 50, 28, 35],\n",
        "    \"gender\": [\"F\", \"M\", \"M\", \"M\", \"F\"]\n",
        "})\n",
        "appointments = pd.DataFrame({\n",
        "    \"appointment_id\": [101, 102, 103, 104, 105, 106, 107, 108],\n",
        "    \"patient_id\": [1, 2, 1, 3, 4, 2, 1, 5],\n",
        "    \"doctor\": [\"Dr. Smith\", \"Dr. Lee\", \"Dr. Smith\", \"Dr. Patel\",\n",
        "               \"Dr. Lee\", \"Dr. Smith\", \"Dr. Patel\", \"Dr. Lee\"],\n",
        "    \"date\": [\"2025-09-01\", \"2025-09-02\", \"2025-09-05\", \"2025-09-07\",\n",
        "             \"2025-09-10\", \"2025-09-12\", \"2025-09-13\", \"2025-09-13\"]\n",
        "})\n",
        "\n",
        "\n",
        "merged_data = pd.merge(appointments, patients, on=\"patient_id\", how=\"inner\")\n",
        "\n",
        "print(\"Merged Dataset:\\n\", merged_data, \"\\n\")\n",
        "\n",
        "\n",
        "patient_visits = merged_data.groupby([\"patient_id\", \"name\"])[\"appointment_id\"].count().reset_index()\n",
        "patient_visits = patient_visits.rename(columns={\"appointment_id\": \"total_visits\"})\n",
        "\n",
        "print(\"Appointments per Patient:\\n\", patient_visits, \"\\n\")\n",
        "\n",
        "\n",
        "doctor_workload = merged_data.groupby(\"doctor\")[\"appointment_id\"].count().reset_index()\n",
        "doctor_workload = doctor_workload.rename(columns={\"appointment_id\": \"appointments_handled\"})\n",
        "\n",
        "print(\"Doctor Workload:\\n\", doctor_workload, \"\\n\")\n",
        "\n",
        "\n",
        "top_patient = patient_visits.loc[patient_visits[\"total_visits\"].idxmax()]\n",
        "\n",
        "print(\"Most Frequent Patient:\\n\", top_patient, \"\\n\")\n",
        "\n",
        "print(\"Insights:\")\n",
        "print(f\"- The most frequent patient is {top_patient['name']} with {top_patient['total_visits']} visits.\")\n",
        "print(f\"- The busiest doctor is {doctor_workload.loc[doctor_workload['appointments_handled'].idxmax(), 'doctor']} \"\n",
        "      f\"handling {doctor_workload['appointments_handled'].max()} appointments.\")"
      ],
      "metadata": {
        "id": "fmsI7jO5JX_g",
        "outputId": "5e8a8943-affe-4f2c-98bb-bee3bf54d372",
        "colab": {
          "base_uri": "https://localhost:8080/"
        }
      },
      "execution_count": 2,
      "outputs": [
        {
          "output_type": "stream",
          "name": "stdout",
          "text": [
            "Merged Dataset:\n",
            "    appointment_id  patient_id     doctor        date     name  age gender\n",
            "0             101           1  Dr. Smith  2025-09-01    Alice   30      F\n",
            "1             102           2    Dr. Lee  2025-09-02      Bob   45      M\n",
            "2             103           1  Dr. Smith  2025-09-05    Alice   30      F\n",
            "3             104           3  Dr. Patel  2025-09-07  Charlie   50      M\n",
            "4             105           4    Dr. Lee  2025-09-10    David   28      M\n",
            "5             106           2  Dr. Smith  2025-09-12      Bob   45      M\n",
            "6             107           1  Dr. Patel  2025-09-13    Alice   30      F\n",
            "7             108           5    Dr. Lee  2025-09-13      Eva   35      F \n",
            "\n",
            "Appointments per Patient:\n",
            "    patient_id     name  total_visits\n",
            "0           1    Alice             3\n",
            "1           2      Bob             2\n",
            "2           3  Charlie             1\n",
            "3           4    David             1\n",
            "4           5      Eva             1 \n",
            "\n",
            "Doctor Workload:\n",
            "       doctor  appointments_handled\n",
            "0    Dr. Lee                     3\n",
            "1  Dr. Patel                     2\n",
            "2  Dr. Smith                     3 \n",
            "\n",
            "Most Frequent Patient:\n",
            " patient_id          1\n",
            "name            Alice\n",
            "total_visits        3\n",
            "Name: 0, dtype: object \n",
            "\n",
            "Insights:\n",
            "- The most frequent patient is Alice with 3 visits.\n",
            "- The busiest doctor is Dr. Lee handling 3 appointments.\n"
          ]
        }
      ]
    }
  ]
}