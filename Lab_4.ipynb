{
  "nbformat": 4,
  "nbformat_minor": 0,
  "metadata": {
    "colab": {
      "provenance": [],
      "authorship_tag": "ABX9TyNZzm5hOLiTmYzYFpZp0qi6",
      "include_colab_link": true
    },
    "kernelspec": {
      "name": "python3",
      "display_name": "Python 3"
    },
    "language_info": {
      "name": "python"
    }
  },
  "cells": [
    {
      "cell_type": "markdown",
      "metadata": {
        "id": "view-in-github",
        "colab_type": "text"
      },
      "source": [
        "<a href=\"https://colab.research.google.com/github/Architha-sketch/Python-for-DataScience/blob/main/Assignment_4.ipynb\" target=\"_parent\"><img src=\"https://colab.research.google.com/assets/colab-badge.svg\" alt=\"Open In Colab\"/></a>"
      ]
    },
    {
      "cell_type": "code",
      "execution_count": 1,
      "metadata": {
        "colab": {
          "base_uri": "https://localhost:8080/"
        },
        "id": "7CpkiPULoT1d",
        "outputId": "7f58e32a-a7fe-40de-bec6-6104fc0152de"
      },
      "outputs": [
        {
          "output_type": "stream",
          "name": "stdout",
          "text": [
            "Meaningful Feedback for 'Python for Data Science' (Rating >= 4):\n",
            "\n",
            "User: U001 | Rating: 5\n",
            "Feedback: Very useful and well explained course!\n",
            "--------------------------------------------------\n",
            "User: U002 | Rating: 4\n",
            "Feedback: Great course, but could use more examples\n",
            "--------------------------------------------------\n",
            "User: U005 | Rating: 5\n",
            "Feedback: Loved the assignments and projects!\n",
            "--------------------------------------------------\n"
          ]
        }
      ],
      "source": [
        "import pandas as pd\n",
        "\n",
        "# Load dataset\n",
        "df = pd.read_csv(\"/content/course_feedback.csv\")\n",
        "\n",
        "# 1. Remove rows with missing Rating\n",
        "df = df.dropna(subset=[\"Rating\"])\n",
        "\n",
        "# 2. Filter feedback for \"Python for Data Science\" with Rating >= 4\n",
        "filtered = df[(df[\"Course_Name\"] == \"Python for Data Science\") & (df[\"Rating\"] >= 4)]\n",
        "\n",
        "# 3. Display feedbacks and usernames\n",
        "print(\"Meaningful Feedback for 'Python for Data Science' (Rating >= 4):\\n\")\n",
        "for index, row in filtered.iterrows():\n",
        "    print(f\"User: {row['User_ID']} | Rating: {row['Rating']}\")\n",
        "    print(f\"Feedback: {row['Feedback']}\")\n",
        "    print(\"-\" * 50)"
      ]
    },
    {
      "cell_type": "code",
      "source": [
        "import pandas as pd\n",
        "\n",
        "# Load dataset\n",
        "df = pd.read_csv(\"/content/air_quality.csv\")\n",
        "\n",
        "# 1. Fill missing pollutant values using forward fill\n",
        "df = df.fillna(method=\"ffill\")\n",
        "\n",
        "# 2. Filter polluted days: PM2.5 > 150 and NO2 > 80\n",
        "polluted_days = df[(df[\"PM2.5\"] > 150) & (df[\"NO2\"] > 80)]\n",
        "\n",
        "# 3. Display polluted day records\n",
        "print(\"Polluted Day Records (PM2.5 > 150 and NO2 > 80):\\n\")\n",
        "print(polluted_days[[\"Location\", \"PM2.5\", \"NO2\", \"Date\"]])\n",
        "\n",
        "# (Optional) Save polluted days to new CSV\n",
        "polluted_days.to_csv(\"polluted_days.csv\", index=False)"
      ],
      "metadata": {
        "colab": {
          "base_uri": "https://localhost:8080/"
        },
        "id": "wu3CwNXsocA2",
        "outputId": "c038c30b-076a-490e-be2d-2f2bc936e6ca"
      },
      "execution_count": 2,
      "outputs": [
        {
          "output_type": "stream",
          "name": "stdout",
          "text": [
            "Polluted Day Records (PM2.5 > 150 and NO2 > 80):\n",
            "\n",
            "  Location  PM2.5    NO2        Date\n",
            "0    Delhi  180.0   95.0  2025-08-01\n",
            "2  Kolkata  200.0   85.0  2025-08-03\n",
            "3  Chennai  200.0   85.0  2025-08-04\n",
            "5    Delhi  160.0  110.0  2025-08-06\n"
          ]
        },
        {
          "output_type": "stream",
          "name": "stderr",
          "text": [
            "/tmp/ipython-input-1027504223.py:7: FutureWarning: DataFrame.fillna with 'method' is deprecated and will raise in a future version. Use obj.ffill() or obj.bfill() instead.\n",
            "  df = df.fillna(method=\"ffill\")\n"
          ]
        }
      ]
    }
  ]
}
