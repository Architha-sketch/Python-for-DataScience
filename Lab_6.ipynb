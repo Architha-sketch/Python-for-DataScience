{
  "nbformat": 4,
  "nbformat_minor": 0,
  "metadata": {
    "colab": {
      "provenance": [],
      "authorship_tag": "ABX9TyMXcbNDCFz1aWRk7P0PXA4p",
      "include_colab_link": true
    },
    "kernelspec": {
      "name": "python3",
      "display_name": "Python 3"
    },
    "language_info": {
      "name": "python"
    }
  },
  "cells": [
    {
      "cell_type": "markdown",
      "metadata": {
        "id": "view-in-github",
        "colab_type": "text"
      },
      "source": [
        "<a href=\"https://colab.research.google.com/github/Architha-sketch/Python-for-DataScience/blob/main/Lab_6.ipynb\" target=\"_parent\"><img src=\"https://colab.research.google.com/assets/colab-badge.svg\" alt=\"Open In Colab\"/></a>"
      ]
    },
    {
      "cell_type": "code",
      "execution_count": 2,
      "metadata": {
        "colab": {
          "base_uri": "https://localhost:8080/"
        },
        "id": "smF135n_J3Ya",
        "outputId": "986265ab-795e-4dc3-bd5d-1bab7ac46fd7"
      },
      "outputs": [
        {
          "output_type": "stream",
          "name": "stdout",
          "text": [
            "Original Dataset\n",
            "    Patient_ID  Age\n",
            "0            1   25\n",
            "1            2   34\n",
            "2            3   67\n",
            "3            4   89\n",
            "4            5    5\n",
            "5            6  120\n",
            "6            7   -3\n",
            "7            8   45\n",
            "8            9  200\n",
            "9           10   78\n",
            "10          11    0\n",
            "11          12  102\n",
            "12          13  150\n",
            "13          14   36\n",
            "14          15   59\n",
            "Detected Outliers \n",
            "    Patient_ID  Age\n",
            "6            7   -3\n",
            "8            9  200\n",
            "12          13  150\n",
            " Cleaned Dataset \n",
            "    Patient_ID  Age\n",
            "0            1   25\n",
            "1            2   34\n",
            "2            3   67\n",
            "3            4   89\n",
            "4            5    5\n",
            "5            6  120\n",
            "7            8   45\n",
            "9           10   78\n",
            "10          11    0\n",
            "11          12  102\n",
            "13          14   36\n",
            "14          15   59\n"
          ]
        }
      ],
      "source": [
        "import pandas as pd\n",
        "\n",
        "data = {\n",
        "\"Patient_ID\": range(1, 16),\n",
        "\"Age\": [25, 34, 67, 89, 5, 120, -3, 45, 200, 78, 0, 102, 150, 36, 59]\n",
        "}\n",
        "df = pd.DataFrame(data)\n",
        "print(\"Original Dataset\")\n",
        "print(df)\n",
        "\n",
        "invalid_ages = df[(df[\"Age\"] < 0) | (df[\"Age\"] > 120)]\n",
        "print(\"Detected Outliers \")\n",
        "print(invalid_ages)\n",
        "\n",
        "cleaned_df = df[(df[\"Age\"] >= 0) & (df[\"Age\"] <= 120)]\n",
        "print(\" Cleaned Dataset \")\n",
        "print(cleaned_df)"
      ]
    },
    {
      "cell_type": "code",
      "source": [
        "import pandas as pd\n",
        "from sklearn.preprocessing import MinMaxScaler, StandardScaler\n",
        "\n",
        "data = {\n",
        "\"Customer_ID\": range(1, 11),\n",
        "\"Income\": [25000, 32000, 45000, 50000, 150000,\n",
        "60000, 75000, 120000, 80000, 95000]\n",
        "}\n",
        "df = pd.DataFrame(data)\n",
        "print(\" Original Dataset \")\n",
        "print(df)\n",
        "\n",
        "min_max_scaler = MinMaxScaler()\n",
        "df[\"Income_MinMax\"] = min_max_scaler.fit_transform(df[[\"Income\"]])\n",
        "\n",
        "standard_scaler = StandardScaler()\n",
        "df[\"Income_Standardized\"] = standard_scaler.fit_transform(df[[\"Income\"]])\n",
        "print(\"Scaled Dataset \")\n",
        "print(df)"
      ],
      "metadata": {
        "colab": {
          "base_uri": "https://localhost:8080/"
        },
        "id": "gK65v5KOKCbe",
        "outputId": "c83852c5-a294-484a-a009-35f90a5b25f9"
      },
      "execution_count": 4,
      "outputs": [
        {
          "output_type": "stream",
          "name": "stdout",
          "text": [
            " Original Dataset \n",
            "   Customer_ID  Income\n",
            "0            1   25000\n",
            "1            2   32000\n",
            "2            3   45000\n",
            "3            4   50000\n",
            "4            5  150000\n",
            "5            6   60000\n",
            "6            7   75000\n",
            "7            8  120000\n",
            "8            9   80000\n",
            "9           10   95000\n",
            "Scaled Dataset \n",
            "   Customer_ID  Income  Income_MinMax  Income_Standardized\n",
            "0            1   25000          0.000            -1.281734\n",
            "1            2   32000          0.056            -1.095590\n",
            "2            3   45000          0.160            -0.749894\n",
            "3            4   50000          0.200            -0.616934\n",
            "4            5  150000          1.000             2.042264\n",
            "5            6   60000          0.280            -0.351014\n",
            "6            7   75000          0.400             0.047866\n",
            "7            8  120000          0.760             1.244505\n",
            "8            9   80000          0.440             0.180825\n",
            "9           10   95000          0.560             0.579705\n"
          ]
        }
      ]
    }
  ]
}