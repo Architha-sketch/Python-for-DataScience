{
  "nbformat": 4,
  "nbformat_minor": 0,
  "metadata": {
    "colab": {
      "provenance": [],
      "authorship_tag": "ABX9TyNRKigwUNYzDEFGfXn7ixKZ",
      "include_colab_link": true
    },
    "kernelspec": {
      "name": "python3",
      "display_name": "Python 3"
    },
    "language_info": {
      "name": "python"
    }
  },
  "cells": [
    {
      "cell_type": "markdown",
      "metadata": {
        "id": "view-in-github",
        "colab_type": "text"
      },
      "source": [
        "<a href=\"https://colab.research.google.com/github/Architha-sketch/Python-for-DataScience/blob/main/Lab_1.ipynb\" target=\"_parent\"><img src=\"https://colab.research.google.com/assets/colab-badge.svg\" alt=\"Open In Colab\"/></a>"
      ]
    },
    {
      "cell_type": "code",
      "execution_count": 1,
      "metadata": {
        "colab": {
          "base_uri": "https://localhost:8080/"
        },
        "id": "v1C2r6xkpBsd",
        "outputId": "3af82934-f660-4140-a9cd-6c39e23a704a"
      },
      "outputs": [
        {
          "output_type": "stream",
          "name": "stdout",
          "text": [
            "Enter total number of people/items (n): 6\n",
            "Enter number of places (r): 2\n",
            "\n",
            "Calculating 6P2:\n",
            "Formula: nPr = n! / (n - r)!\n",
            "= 6! / (6 - 2)!\n",
            "6! = 720\n",
            "(6 - 2)! = 24\n",
            "6P2 = 720 / 24 = 30\n",
            "\n",
            "Final Answer: 30\n"
          ]
        }
      ],
      "source": [
        "\n",
        "# Recursive Factorial Function\n",
        "def factorial(n):\n",
        "    if n == 0 or n == 1:\n",
        "        return 1\n",
        "    else:\n",
        "        return n * factorial(n - 1)\n",
        "\n",
        "\n",
        "# Permutation Function with Steps\n",
        "def permutation(n, r):\n",
        "    print(f\"\\nCalculating {n}P{r}:\")\n",
        "    if n < r:\n",
        "        return \"Invalid input! (n must be >= r)\"\n",
        "\n",
        "    # Step 1: Show formula\n",
        "    print(f\"Formula: nPr = n! / (n - r)!\")\n",
        "    print(f\"= {n}! / ({n} - {r})!\")\n",
        "\n",
        "    # Step 2: Compute factorials\n",
        "    n_fact = factorial(n)\n",
        "    nr_fact = factorial(n - r)\n",
        "    print(f\"{n}! = {n_fact}\")\n",
        "    print(f\"({n} - {r})! = {nr_fact}\")\n",
        "\n",
        "    # Step 3: Final result\n",
        "    result = n_fact // nr_fact\n",
        "    print(f\"{n}P{r} = {n_fact} / {nr_fact} = {result}\")\n",
        "\n",
        "    return result\n",
        "\n",
        "\n",
        "# Main Program\n",
        "if __name__ == \"__main__\":\n",
        "    # Accept user input\n",
        "    n = int(input(\"Enter total number of people/items (n): \"))\n",
        "    r = int(input(\"Enter number of places (r): \"))\n",
        "\n",
        "    # Validate input\n",
        "    if n < 0 or r < 0:\n",
        "        print(\"n and r must be non-negative!\")\n",
        "    else:\n",
        "        result = permutation(n, r)\n",
        "        print(\"\\nFinal Answer:\", result)"
      ]
    },
    {
      "cell_type": "code",
      "source": [
        "import sys\n",
        "\n",
        "# Recursive Factorial Function with Error Handling\n",
        "def recursive_factorial(n):\n",
        "    if n == 0 or n == 1:\n",
        "        return 1\n",
        "    else:\n",
        "        return n * recursive_factorial(n - 1)\n",
        "\n",
        "\n",
        "# Iterative Factorial Function\n",
        "def iterative_factorial(n):\n",
        "    result = 1\n",
        "    for i in range(1, n + 1):\n",
        "        result *= i\n",
        "    return result\n",
        "\n",
        "\n",
        "# Main Program\n",
        "if __name__ == \"__main__\":\n",
        "    print(\"Factorial Calculator (Recursive vs Iterative) \")\n",
        "\n",
        "    # Show Python recursion limit\n",
        "    recursion_limit = sys.getrecursionlimit()\n",
        "    print(f\" Python recursion depth limit: {recursion_limit}\\n\")\n",
        "\n",
        "    try:\n",
        "        n = int(input(\"Enter a number to calculate factorial: \"))\n",
        "\n",
        "        if n < 0:\n",
        "            print(\" Factorial is not defined for negative numbers.\")\n",
        "        else:\n",
        "            # Warn user if input is too large\n",
        "            if n > 998:\n",
        "                print(\" WARNING: Recursive factorial may fail for n > 998 due to recursion depth limits.\")\n",
        "\n",
        "            # Recursive factorial with error handling\n",
        "            try:\n",
        "                rec_result = recursive_factorial(n)\n",
        "                print(f\"\\nRecursive Result: {n}! = {rec_result}\")\n",
        "            except RecursionError:\n",
        "                print(f\"\\n RecursionError: Cannot compute {n}! recursively (exceeds recursion depth limit).\")\n",
        "\n",
        "            # Iterative factorial (always safe)\n",
        "            iter_result = iterative_factorial(n)\n",
        "            print(f\"Iterative Result: {n}! = {iter_result}\")\n",
        "\n",
        "    except ValueError:\n",
        "        print(\" Invalid input! Please enter a valid integer.\")"
      ],
      "metadata": {
        "colab": {
          "base_uri": "https://localhost:8080/"
        },
        "id": "7zuOidSlpEFG",
        "outputId": "27a59a54-89e8-4d72-d9ff-9ac87ddf8d7c"
      },
      "execution_count": 2,
      "outputs": [
        {
          "output_type": "stream",
          "name": "stdout",
          "text": [
            "Factorial Calculator (Recursive vs Iterative) \n",
            " Python recursion depth limit: 1000\n",
            "\n",
            "Enter a number to calculate factorial: 6\n",
            "\n",
            "Recursive Result: 6! = 720\n",
            "Iterative Result: 6! = 720\n"
          ]
        }
      ]
    }
  ]
}