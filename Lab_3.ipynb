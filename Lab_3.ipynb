{
  "nbformat": 4,
  "nbformat_minor": 0,
  "metadata": {
    "colab": {
      "provenance": [],
      "authorship_tag": "ABX9TyPxmpS/Rc8koGLwZYACsXSW",
      "include_colab_link": true
    },
    "kernelspec": {
      "name": "python3",
      "display_name": "Python 3"
    },
    "language_info": {
      "name": "python"
    }
  },
  "cells": [
    {
      "cell_type": "markdown",
      "metadata": {
        "id": "view-in-github",
        "colab_type": "text"
      },
      "source": [
        "<a href=\"https://colab.research.google.com/github/Architha-sketch/Python-for-DataScience/blob/main/Lab_3.ipynb\" target=\"_parent\"><img src=\"https://colab.research.google.com/assets/colab-badge.svg\" alt=\"Open In Colab\"/></a>"
      ]
    },
    {
      "cell_type": "code",
      "execution_count": 1,
      "metadata": {
        "id": "qwoS0D1EqBXZ",
        "outputId": "67bf1a50-dc8f-4604-fc2b-95006ef5f639",
        "colab": {
          "base_uri": "https://localhost:8080/"
        }
      },
      "outputs": [
        {
          "output_type": "stream",
          "name": "stdout",
          "text": [
            "[[19 29 15 69]\n",
            " [14 40 17 19]\n",
            " [63 16  1  9]\n",
            " [84 24 25 82]]\n",
            "Column-wise means: [45.   27.25 14.5  44.75]\n",
            "Row-wise means: [33.   22.5  22.25 53.75]\n",
            "Standard Deviation: 25.77516973755944\n",
            "Variance: 664.359375\n",
            "Minimum value: 1\n",
            "Maximum value: 84\n",
            "Index of minimum value: 10\n",
            "Index of maximum value: 12\n"
          ]
        }
      ],
      "source": [
        "#2-D Array\n",
        "import numpy as np\n",
        "\n",
        "test_scores = np.random.randint(0, 101, size=(4, 4))\n",
        "print(test_scores)\n",
        "column_means = np.mean(test_scores, axis=0)\n",
        "row_means = np.mean(test_scores, axis=1)\n",
        "\n",
        "print(\"Column-wise means:\", column_means)\n",
        "print(\"Row-wise means:\", row_means)\n",
        "std_dev = np.std(test_scores)\n",
        "variance = np.var(test_scores)\n",
        "\n",
        "print(\"Standard Deviation:\", std_dev)\n",
        "print(\"Variance:\", variance)\n",
        "min_value = np.min(test_scores)\n",
        "max_value = np.max(test_scores)\n",
        "min_index = np.argmin(test_scores)\n",
        "max_index = np.argmax(test_scores)\n",
        "\n",
        "print(\"Minimum value:\", min_value)\n",
        "print(\"Maximum value:\", max_value)\n",
        "print(\"Index of minimum value:\", min_index)\n",
        "print(\"Index of maximum value:\", max_index)"
      ]
    },
    {
      "cell_type": "code",
      "source": [
        "#Create 3d array\n",
        "import numpy as np\n",
        "rgb_image = np.random.randint(0, 256, size=(3, 3, 3))\n",
        "print(rgb_image)\n",
        "red_channel = rgb_image[:, :, 0]\n",
        "green_channel = rgb_image[:, :, 1]\n",
        "blue_channel = rgb_image[:, :, 2]\n",
        "\n",
        "print(\"Red Channel:\\n\", red_channel)\n",
        "print(\"Green Channel:\\n\", green_channel)\n",
        "print(\"Blue Channel:\\n\", blue_channel)\n",
        "red_mean = np.mean(red_channel)\n",
        "green_mean = np.mean(green_channel)\n",
        "blue_mean = np.mean(blue_channel)\n",
        "\n",
        "print(f\"Average pixel intensity for Red channel: {red_mean}\")\n",
        "print(f\"Average pixel intensity for Green channel: {green_mean}\")\n",
        "print(f\"Average pixel intensity for Blue channel: {blue_mean}\")\n",
        "brightness_increase = 50\n",
        "brightened_image = np.clip(rgb_image + brightness_increase, 0, 255)\n",
        "print(\"Brightened Image (clipped at 255):\\n\", brightened_image)"
      ],
      "metadata": {
        "id": "uvRuEineqY6F",
        "outputId": "2135eb0d-9d8c-4c2a-bd11-3b48f9d7359f",
        "colab": {
          "base_uri": "https://localhost:8080/"
        }
      },
      "execution_count": 2,
      "outputs": [
        {
          "output_type": "stream",
          "name": "stdout",
          "text": [
            "[[[217 141  92]\n",
            "  [ 37 101  25]\n",
            "  [146  12 141]]\n",
            "\n",
            " [[115 183 237]\n",
            "  [ 57 110  25]\n",
            "  [127  40  78]]\n",
            "\n",
            " [[155 138  95]\n",
            "  [147  46 250]\n",
            "  [110 201  60]]]\n",
            "Red Channel:\n",
            " [[217  37 146]\n",
            " [115  57 127]\n",
            " [155 147 110]]\n",
            "Green Channel:\n",
            " [[141 101  12]\n",
            " [183 110  40]\n",
            " [138  46 201]]\n",
            "Blue Channel:\n",
            " [[ 92  25 141]\n",
            " [237  25  78]\n",
            " [ 95 250  60]]\n",
            "Average pixel intensity for Red channel: 123.44444444444444\n",
            "Average pixel intensity for Green channel: 108.0\n",
            "Average pixel intensity for Blue channel: 111.44444444444444\n",
            "Brightened Image (clipped at 255):\n",
            " [[[255 191 142]\n",
            "  [ 87 151  75]\n",
            "  [196  62 191]]\n",
            "\n",
            " [[165 233 255]\n",
            "  [107 160  75]\n",
            "  [177  90 128]]\n",
            "\n",
            " [[205 188 145]\n",
            "  [197  96 255]\n",
            "  [160 251 110]]]\n"
          ]
        }
      ]
    }
  ]
}